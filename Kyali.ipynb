{
 "cells": [
  {
   "cell_type": "code",
   "execution_count": 5,
   "id": "865e305e-31c7-4a88-abe0-4b66fe9ad214",
   "metadata": {},
   "outputs": [
    {
     "name": "stdin",
     "output_type": "stream",
     "text": [
      "Enter your name to start the morning routine simulation:  kyaligonza\n"
     ]
    },
    {
     "name": "stdout",
     "output_type": "stream",
     "text": [
      " Starting kyaligonza's Morning Routine Simulation \n",
      " kyaligonza wakes up!\n",
      "...Stretching and hitting the snooze button once.\n",
      "\n",
      " kyaligonza heads to the bathroom.\n",
      "- Brushing teeth and washing face.\n",
      "- Taking a quick shower.\n",
      "\n",
      " **kyaligonza is getting dressed.**\n"
     ]
    },
    {
     "name": "stdin",
     "output_type": "stream",
     "text": [
      "What are you wearing today (e.g., casual, business, sporty)?  business\n"
     ]
    },
    {
     "name": "stdout",
     "output_type": "stream",
     "text": [
      "- Selecting the business outfit.\n",
      "\\ kyaligonza is preparing breakfast.\n",
      "- Making coffee/tea and a quick meal (e.g., oatmeal, toast).\n",
      "- Enjoying breakfast! \n",
      "\n",
      " kyaligonza performs final checks.\n",
      "- Grabbing keys, wallet, phone, and bag.\n"
     ]
    },
    {
     "name": "stdin",
     "output_type": "stream",
     "text": [
      "Did you remember to lock the back door (y/n)?  no\n"
     ]
    },
    {
     "name": "stdout",
     "output_type": "stream",
     "text": [
      " Oh! Better go back and lock the door!\n",
      "- Checking the weather one last time.\n",
      "\n",
      " kyaligonza is walking out the front door.\n",
      "--- PROGRAM COMPLETE ---\n"
     ]
    }
   ],
   "source": [
    "\n",
    "import time\n",
    "\n",
    "def wake_up(name):\n",
    "    \"\"\"Simulates waking up and turning off the alarm.\"\"\"\n",
    "    print(f\" {name} wakes up!\")\n",
    "    print(\"...Stretching and hitting the snooze button once.\")\n",
    "    # Simulate a brief delay\n",
    "    time.sleep(1)\n",
    "    return True\n",
    "\n",
    "def morning_hygiene(name):\n",
    "    \"\"\"Handles the bathroom routine.\"\"\"\n",
    "    print(f\"\\n {name} heads to the bathroom.\")\n",
    "    print(\"- Brushing teeth and washing face.\")\n",
    "    # Simulate the time taken\n",
    "    time.sleep(1.5)\n",
    "    print(\"- Taking a quick shower.\")\n",
    "    return True\n",
    "\n",
    "def get_dressed(name):\n",
    "    \"\"\"Handles choosing and putting on clothes.\"\"\"\n",
    "    print(f\"\\n **{name} is getting dressed.**\")\n",
    "    outfit = input(\"What are you wearing today (e.g., casual, business, sporty)? \")\n",
    "    print(f\"- Selecting the {outfit} outfit.\")\n",
    "\n",
    "    time.sleep(1)\n",
    "    return True\n",
    "\n",
    "def prepare_and_eat_breakfast(name):\n",
    "    \"\"\"Simulates preparing and consuming breakfast.\"\"\"\n",
    "    print(f\"\\ {name} is preparing breakfast.\")\n",
    "    print(\"- Making coffee/tea and a quick meal (e.g., oatmeal, toast).\")\n",
    "\n",
    "    time.sleep(2)\n",
    "    print(f\"- Enjoying breakfast! \")\n",
    "    return True\n",
    "\n",
    "def final_checks(name):\n",
    "    \"\"\"Simulates last-minute checks before leaving.\"\"\"\n",
    "    print(f\"\\n {name} performs final checks.\")\n",
    "    print(\"- Grabbing keys, wallet, phone, and bag.\")\n",
    "    is_door_locked = input(\"Did you remember to lock the back door (y/n)? \").lower() == 'y'\n",
    "    if not is_door_locked:\n",
    "        print(\" Oh! Better go back and lock the door!\")\n",
    "        time.sleep(0.5)\n",
    "    print(\"- Checking the weather one last time.\")\n",
    "    return True\n",
    "\n",
    "def leave_house(name):\n",
    "    \"\"\"The final step of exiting the home.\"\"\"\n",
    "    print(f\"\\n {name} is walking out the front door.\")\n",
    "    print(\"--- PROGRAM COMPLETE ---\")\n",
    "    return True\n",
    "\n",
    "\n",
    "def run_morning_routine(person_name):\n",
    "    \"\"\"Executes the entire morning routine in sequence.\"\"\"\n",
    "    print(f\" Starting {person_name}'s Morning Routine Simulation \")\n",
    "    \n",
    "    # Step 1: Wake Up\n",
    "    if wake_up(person_name):\n",
    "        # Step 2: Hygiene\n",
    "        if morning_hygiene(person_name):\n",
    "            # Step 3: Get Dressed\n",
    "            if get_dressed(person_name):\n",
    "                # Step 4: Breakfast\n",
    "                if prepare_and_eat_breakfast(person_name):\n",
    "                    # Step 5: Final Checks\n",
    "                    if final_checks(person_name):\n",
    "                        # Step 6: Leave House\n",
    "                        leave_house(person_name)\n",
    "    else:\n",
    "        print(\"The alarm was ignored! The routine has failed. Back to sleep.\")\n",
    "\n",
    "if __name__ == \"__main__\":\n",
    "\n",
    "    user_name = input(\"Enter your name to start the morning routine simulation: \")\n",
    "    \n",
    "    run_morning_routine(user_name)\n",
    "\n"
   ]
  },
  {
   "cell_type": "code",
   "execution_count": null,
   "id": "32ae761a-20b3-4973-905f-134f66faf985",
   "metadata": {},
   "outputs": [],
   "source": []
  }
 ],
 "metadata": {
  "kernelspec": {
   "display_name": "Python 3 (ipykernel)",
   "language": "python",
   "name": "python3"
  },
  "language_info": {
   "codemirror_mode": {
    "name": "ipython",
    "version": 3
   },
   "file_extension": ".py",
   "mimetype": "text/x-python",
   "name": "python",
   "nbconvert_exporter": "python",
   "pygments_lexer": "ipython3",
   "version": "3.13.5"
  }
 },
 "nbformat": 4,
 "nbformat_minor": 5
}
